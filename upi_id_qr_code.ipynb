{
 "cells": [
  {
   "cell_type": "code",
   "execution_count": 2,
   "metadata": {},
   "outputs": [],
   "source": [
    "import qrcode"
   ]
  },
  {
   "cell_type": "code",
   "execution_count": 3,
   "metadata": {},
   "outputs": [],
   "source": [
    "upi_id = \"rachit24jain@okaxis\"\n",
    "#upi_id_in=input(\"Enter the Sender's Upi-ID: \")\n",
    "amount = input(\"Enter amount: \")\n",
    "qr = qrcode.QRCode(version=3, box_size=15, border=5)\n",
    "qr.add_data(f'upi://pay?pa={upi_id}&pn=Name&am={amount}&cu=INR')  \n",
    "qr.make(fit=True)\n",
    "\n",
    "img = qr.make_image(fill_color=\"black\", back_color=\"white\")\n",
    "\n",
    "img.save(\"pay.png\")\n",
    "\n",
    "from PIL import Image\n",
    "img = Image.open('pay.png')\n",
    "img.show()"
   ]
  }
 ],
 "metadata": {
  "kernelspec": {
   "display_name": "Python 3",
   "language": "python",
   "name": "python3"
  },
  "language_info": {
   "codemirror_mode": {
    "name": "ipython",
    "version": 3
   },
   "file_extension": ".py",
   "mimetype": "text/x-python",
   "name": "python",
   "nbconvert_exporter": "python",
   "pygments_lexer": "ipython3",
   "version": "3.10.9"
  }
 },
 "nbformat": 4,
 "nbformat_minor": 2
}
